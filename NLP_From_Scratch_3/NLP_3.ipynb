{
 "cells": [
  {
   "metadata": {},
   "cell_type": "markdown",
   "source": "#### ![](./seq2seq.png)",
   "id": "eb96fc7504158511"
  },
  {
   "cell_type": "code",
   "id": "initial_id",
   "metadata": {
    "collapsed": true,
    "ExecuteTime": {
     "end_time": "2025-10-07T13:10:00.021019Z",
     "start_time": "2025-10-07T13:09:57.012645Z"
    }
   },
   "source": [
    "from __future__ import unicode_literals, print_function, division\n",
    "from io import open\n",
    "import unicodedata\n",
    "import re\n",
    "import random\n",
    "import time\n",
    "import math\n",
    "from typing import List, Tuple, Dict, Optional\n",
    "\n",
    "import torch\n",
    "import torch.nn as nn\n",
    "from torch import optim\n",
    "import torch.nn.functional as F\n",
    "import numpy as np\n",
    "import numpy.typing as npt\n",
    "from torch.utils.data import TensorDataset, DataLoader, RandomSampler\n",
    "\n",
    "import matplotlib.pyplot as plt\n",
    "plt.switch_backend('agg')\n",
    "import matplotlib.ticker as ticker\n",
    "\n",
    "device: torch.device = torch.device(\"cuda\" if torch.cuda.is_available() else \"cpu\")"
   ],
   "outputs": [],
   "execution_count": 1
  },
  {
   "metadata": {},
   "cell_type": "markdown",
   "source": "#### ![](./word-encoding.png)",
   "id": "cb4e26b51c28916a"
  },
  {
   "metadata": {
    "ExecuteTime": {
     "end_time": "2025-10-07T13:11:00.431856Z",
     "start_time": "2025-10-07T13:11:00.425631Z"
    }
   },
   "cell_type": "code",
   "source": [
    "SOS_token: int = 0\n",
    "EOS_token: int = 1\n",
    "\n",
    "class Lang:\n",
    "    \"\"\"Language vocabulary class for word-to-index mapping.\"\"\"\n",
    "    \n",
    "    def __init__(self, name: str) -> None:\n",
    "        self.name: str = name\n",
    "        self.word2index: Dict[str, int] = {}\n",
    "        self.word2count: Dict[str, int] = {}\n",
    "        self.index2word: Dict[int, str] = {0: \"SOS\", 1: \"EOS\"}\n",
    "        self.n_words: int = 2  # Count SOS and EOS\n",
    "    \n",
    "    def addSentence(self, sentence: str) -> None:\n",
    "        \"\"\"Add all words in a sentence to the vocabulary.\"\"\"\n",
    "        for word in sentence.split(' '):\n",
    "            self.addWord(word)\n",
    "    \n",
    "    def addWord(self, word: str) -> None:\n",
    "        \"\"\"Add a word to the vocabulary.\"\"\"\n",
    "        if word not in self.word2index:\n",
    "            self.word2index[word] = self.n_words\n",
    "            self.word2count[word] = 1\n",
    "            self.index2word[self.n_words] = word\n",
    "            self.n_words += 1\n",
    "        else:\n",
    "            self.word2count[word] += 1\n",
    "\n",
    "\n",
    "def unicodeToAscii(s: str) -> str:\n",
    "    \"\"\"\n",
    "    Turn a Unicode string to plain ASCII.\n",
    "    Thanks to https://stackoverflow.com/a/518232/2809427\n",
    "    \"\"\"\n",
    "    return ''.join(\n",
    "        c for c in unicodedata.normalize('NFD', s)\n",
    "        if unicodedata.category(c) != 'Mn'\n",
    "    )"
   ],
   "id": "2262221e091994f8",
   "outputs": [],
   "execution_count": 2
  },
  {
   "metadata": {
    "ExecuteTime": {
     "end_time": "2025-10-07T13:11:17.817760Z",
     "start_time": "2025-10-07T13:11:17.811447Z"
    }
   },
   "cell_type": "code",
   "source": [
    "def normalizeString(s: str) -> str:\n",
    "    \"\"\"Lowercase, trim, and remove non-letter characters.\"\"\"\n",
    "    s = unicodeToAscii(s.lower().strip())\n",
    "    s = re.sub(r\"([.!?])\", r\" \\1\", s)\n",
    "    s = re.sub(r\"[^a-zA-Z!?]+\", r\" \", s)\n",
    "    return s.strip()"
   ],
   "id": "7a2cec9861738f6b",
   "outputs": [],
   "execution_count": 3
  },
  {
   "metadata": {
    "ExecuteTime": {
     "end_time": "2025-10-07T13:11:46.721569Z",
     "start_time": "2025-10-07T13:11:46.717333Z"
    }
   },
   "cell_type": "code",
   "source": [
    "def readLangs(lang1: str, lang2: str, reverse: bool = False) -> Tuple[Lang, Lang, List[List[str]]]:\n",
    "    \"\"\"Read language pairs from file.\"\"\"\n",
    "    print(\"Reading lines...\")\n",
    "    \n",
    "    # Read the file and split into lines\n",
    "    lines: List[str] = open('data/%s-%s.txt' % (lang1, lang2), encoding='utf-8').\\\n",
    "        read().strip().split('\\n')\n",
    "    \n",
    "    # Split every line into pairs and normalize\n",
    "    pairs: List[List[str]] = [[normalizeString(s) for s in l.split('\\t')] for l in lines]\n",
    "    \n",
    "    # Reverse pairs, make Lang instances\n",
    "    if reverse:\n",
    "        pairs = [list(reversed(p)) for p in pairs]\n",
    "        input_lang: Lang = Lang(lang2)\n",
    "        output_lang: Lang = Lang(lang1)\n",
    "    else:\n",
    "        input_lang = Lang(lang1)\n",
    "        output_lang = Lang(lang2)\n",
    "    \n",
    "    return input_lang, output_lang, pairs"
   ],
   "id": "60cf42c38065fed6",
   "outputs": [],
   "execution_count": 4
  },
  {
   "metadata": {
    "ExecuteTime": {
     "end_time": "2025-10-07T13:12:01.677731Z",
     "start_time": "2025-10-07T13:12:01.673604Z"
    }
   },
   "cell_type": "code",
   "source": [
    "MAX_LENGTH: int = 10\n",
    "\n",
    "eng_prefixes: Tuple[str, ...] = (\n",
    "    \"i am \", \"i m \",\n",
    "    \"he is\", \"he s \",\n",
    "    \"she is\", \"she s \",\n",
    "    \"you are\", \"you re \",\n",
    "    \"we are\", \"we re \",\n",
    "    \"they are\", \"they re \"\n",
    ")\n",
    "\n",
    "\n",
    "def filterPair(p: List[str]) -> bool:\n",
    "    \"\"\"Check if a pair meets filtering criteria.\"\"\"\n",
    "    return len(p[0].split(' ')) < MAX_LENGTH and \\\n",
    "        len(p[1].split(' ')) < MAX_LENGTH and \\\n",
    "        p[1].startswith(eng_prefixes)\n",
    "\n",
    "\n",
    "def filterPairs(pairs: List[List[str]]) -> List[List[str]]:\n",
    "    \"\"\"Filter pairs based on length and prefix criteria.\"\"\"\n",
    "    return [pair for pair in pairs if filterPair(pair)]"
   ],
   "id": "47464efece538232",
   "outputs": [],
   "execution_count": 5
  },
  {
   "metadata": {
    "ExecuteTime": {
     "end_time": "2025-10-07T13:12:21.971360Z",
     "start_time": "2025-10-07T13:12:18.480215Z"
    }
   },
   "cell_type": "code",
   "source": [
    "def prepareData(lang1: str, lang2: str, reverse: bool = False) -> Tuple[Lang, Lang, List[List[str]]]:\n",
    "    \"\"\"Prepare data by reading, filtering, and building vocabulary.\"\"\"\n",
    "    input_lang: Lang\n",
    "    output_lang: Lang\n",
    "    pairs: List[List[str]]\n",
    "    input_lang, output_lang, pairs = readLangs(lang1, lang2, reverse)\n",
    "    print(\"Read %s sentence pairs\" % len(pairs))\n",
    "    pairs = filterPairs(pairs)\n",
    "    print(\"Trimmed to %s sentence pairs\" % len(pairs))\n",
    "    print(\"Counting words...\")\n",
    "    for pair in pairs:\n",
    "        input_lang.addSentence(pair[0])\n",
    "        output_lang.addSentence(pair[1])\n",
    "    print(\"Counted words:\")\n",
    "    print(input_lang.name, input_lang.n_words)\n",
    "    print(output_lang.name, output_lang.n_words)\n",
    "    return input_lang, output_lang, pairs\n",
    "\n",
    "input_lang: Lang\n",
    "output_lang: Lang\n",
    "pairs: List[List[str]]\n",
    "input_lang, output_lang, pairs = prepareData('eng', 'fra', True)\n",
    "print(random.choice(pairs))"
   ],
   "id": "8b2da2c1b09f115f",
   "outputs": [
    {
     "name": "stdout",
     "output_type": "stream",
     "text": [
      "Reading lines...\n",
      "Read 135842 sentence pairs\n",
      "Trimmed to 11445 sentence pairs\n",
      "Counting words...\n",
      "Counted words:\n",
      "fra 4601\n",
      "eng 2991\n",
      "['nous sommes sideres', 'we re stunned']\n"
     ]
    }
   ],
   "execution_count": 6
  },
  {
   "metadata": {},
   "cell_type": "markdown",
   "source": "## The Seq2Seq Model",
   "id": "c03cd62691dabf64"
  },
  {
   "metadata": {},
   "cell_type": "markdown",
   "source": "#### ![](./seq2seq_1.png)",
   "id": "585c0ce47d165297"
  },
  {
   "metadata": {},
   "cell_type": "markdown",
   "source": "## The Encoder",
   "id": "e55d4c00e9124a86"
  },
  {
   "metadata": {},
   "cell_type": "markdown",
   "source": "#### ![](./encoder-network.png)",
   "id": "6ac4bddd33cc1452"
  },
  {
   "metadata": {
    "ExecuteTime": {
     "end_time": "2025-10-07T13:12:44.826302Z",
     "start_time": "2025-10-07T13:12:44.822103Z"
    }
   },
   "cell_type": "code",
   "source": [
    "class EncoderRNN(nn.Module):\n",
    "    \"\"\"Encoder RNN with embedding and GRU.\"\"\"\n",
    "    \n",
    "    def __init__(self, input_size: int, hidden_size: int, dropout_p: float = 0.1) -> None:\n",
    "        super(EncoderRNN, self).__init__()\n",
    "        self.hidden_size: int = hidden_size\n",
    "        \n",
    "        self.embedding: nn.Embedding = nn.Embedding(input_size, hidden_size)\n",
    "        self.gru: nn.GRU = nn.GRU(hidden_size, hidden_size, batch_first=True)\n",
    "        self.dropout: nn.Dropout = nn.Dropout(dropout_p)\n",
    "    \n",
    "    def forward(self, input: torch.Tensor) -> Tuple[torch.Tensor, torch.Tensor]:\n",
    "        embedded: torch.Tensor = self.dropout(self.embedding(input))\n",
    "        output: torch.Tensor\n",
    "        hidden: torch.Tensor\n",
    "        output, hidden = self.gru(embedded)\n",
    "        return output, hidden"
   ],
   "id": "ed8e068f31de97d2",
   "outputs": [],
   "execution_count": 7
  },
  {
   "metadata": {},
   "cell_type": "markdown",
   "source": "## The Decoder",
   "id": "d84c50258faed763"
  },
  {
   "metadata": {},
   "cell_type": "markdown",
   "source": "#### ![](./decoder-network.png)",
   "id": "98237e6cd920bab3"
  },
  {
   "metadata": {
    "ExecuteTime": {
     "end_time": "2025-10-07T13:12:58.447030Z",
     "start_time": "2025-10-07T13:12:58.440660Z"
    }
   },
   "cell_type": "code",
   "source": [
    "class DecoderRNN(nn.Module):\n",
    "    \"\"\"Basic decoder RNN without attention.\"\"\"\n",
    "    \n",
    "    def __init__(self, hidden_size: int, output_size: int) -> None:\n",
    "        super(DecoderRNN, self).__init__()\n",
    "        self.embedding: nn.Embedding = nn.Embedding(output_size, hidden_size)\n",
    "        self.gru: nn.GRU = nn.GRU(hidden_size, hidden_size, batch_first=True)\n",
    "        self.out: nn.Linear = nn.Linear(hidden_size, output_size)\n",
    "    \n",
    "    def forward(\n",
    "        self, \n",
    "        encoder_outputs: torch.Tensor, \n",
    "        encoder_hidden: torch.Tensor, \n",
    "        target_tensor: Optional[torch.Tensor] = None\n",
    "    ) -> Tuple[torch.Tensor, torch.Tensor, None]:\n",
    "        batch_size: int = encoder_outputs.size(0)\n",
    "        decoder_input: torch.Tensor = torch.empty(batch_size, 1, dtype=torch.long, device=device).fill_(SOS_token)\n",
    "        decoder_hidden: torch.Tensor = encoder_hidden\n",
    "        decoder_outputs: List[torch.Tensor] = []\n",
    "        \n",
    "        for i in range(MAX_LENGTH):\n",
    "            decoder_output: torch.Tensor\n",
    "            decoder_output, decoder_hidden = self.forward_step(decoder_input, decoder_hidden)\n",
    "            decoder_outputs.append(decoder_output)\n",
    "            \n",
    "            if target_tensor is not None:\n",
    "                # Teacher forcing: Feed the target as the next input\n",
    "                decoder_input = target_tensor[:, i].unsqueeze(1)\n",
    "            else:\n",
    "                # Without teacher forcing: use its own predictions as the next input\n",
    "                _: torch.Tensor\n",
    "                topi: torch.Tensor\n",
    "                _, topi = decoder_output.topk(1)\n",
    "                decoder_input = topi.squeeze(-1).detach()\n",
    "        \n",
    "        decoder_outputs_cat: torch.Tensor = torch.cat(decoder_outputs, dim=1)\n",
    "        decoder_outputs_cat = F.log_softmax(decoder_outputs_cat, dim=-1)\n",
    "        return decoder_outputs_cat, decoder_hidden, None\n",
    "    \n",
    "    def forward_step(self, input: torch.Tensor, hidden: torch.Tensor) -> Tuple[torch.Tensor, torch.Tensor]:\n",
    "        output: torch.Tensor = self.embedding(input)\n",
    "        output = F.relu(output)\n",
    "        output, hidden = self.gru(output, hidden)\n",
    "        output = self.out(output)\n",
    "        return output, hidden"
   ],
   "id": "5957dc4fced91986",
   "outputs": [],
   "execution_count": 8
  },
  {
   "metadata": {},
   "cell_type": "markdown",
   "source": "## Attention Decoder",
   "id": "febcbcd965082afb"
  },
  {
   "metadata": {},
   "cell_type": "markdown",
   "source": "#### ![](./attention-decoder-network.png)",
   "id": "63d7078d596953f9"
  },
  {
   "metadata": {
    "ExecuteTime": {
     "end_time": "2025-10-07T13:13:22.753734Z",
     "start_time": "2025-10-07T13:13:22.744918Z"
    }
   },
   "cell_type": "code",
   "source": [
    "class BahdanauAttention(nn.Module):\n",
    "    \"\"\"Bahdanau attention mechanism.\"\"\"\n",
    "    \n",
    "    def __init__(self, hidden_size: int) -> None:\n",
    "        super(BahdanauAttention, self).__init__()\n",
    "        self.Wa: nn.Linear = nn.Linear(hidden_size, hidden_size)\n",
    "        self.Ua: nn.Linear = nn.Linear(hidden_size, hidden_size)\n",
    "        self.Va: nn.Linear = nn.Linear(hidden_size, 1)\n",
    "    \n",
    "    def forward(self, query: torch.Tensor, keys: torch.Tensor) -> Tuple[torch.Tensor, torch.Tensor]:\n",
    "        scores: torch.Tensor = self.Va(torch.tanh(self.Wa(query) + self.Ua(keys)))\n",
    "        scores = scores.squeeze(2).unsqueeze(1)\n",
    "        \n",
    "        weights: torch.Tensor = F.softmax(scores, dim=-1)\n",
    "        context: torch.Tensor = torch.bmm(weights, keys)\n",
    "        \n",
    "        return context, weights\n",
    "\n",
    "\n",
    "class AttnDecoderRNN(nn.Module):\n",
    "    \"\"\"Decoder RNN with Bahdanau attention.\"\"\"\n",
    "    \n",
    "    def __init__(self, hidden_size: int, output_size: int, dropout_p: float = 0.1) -> None:\n",
    "        super(AttnDecoderRNN, self).__init__()\n",
    "        self.embedding: nn.Embedding = nn.Embedding(output_size, hidden_size)\n",
    "        self.attention: BahdanauAttention = BahdanauAttention(hidden_size)\n",
    "        self.gru: nn.GRU = nn.GRU(2 * hidden_size, hidden_size, batch_first=True)\n",
    "        self.out: nn.Linear = nn.Linear(hidden_size, output_size)\n",
    "        self.dropout: nn.Dropout = nn.Dropout(dropout_p)\n",
    "    \n",
    "    def forward(\n",
    "        self, \n",
    "        encoder_outputs: torch.Tensor, \n",
    "        encoder_hidden: torch.Tensor, \n",
    "        target_tensor: Optional[torch.Tensor] = None\n",
    "    ) -> Tuple[torch.Tensor, torch.Tensor, torch.Tensor]:\n",
    "        batch_size: int = encoder_outputs.size(0)\n",
    "        decoder_input: torch.Tensor = torch.empty(batch_size, 1, dtype=torch.long, device=device).fill_(SOS_token)\n",
    "        decoder_hidden: torch.Tensor = encoder_hidden\n",
    "        decoder_outputs: List[torch.Tensor] = []\n",
    "        attentions: List[torch.Tensor] = []\n",
    "        \n",
    "        for i in range(MAX_LENGTH):\n",
    "            decoder_output: torch.Tensor\n",
    "            attn_weights: torch.Tensor\n",
    "            decoder_output, decoder_hidden, attn_weights = self.forward_step(\n",
    "                decoder_input, decoder_hidden, encoder_outputs\n",
    "            )\n",
    "            decoder_outputs.append(decoder_output)\n",
    "            attentions.append(attn_weights)\n",
    "            \n",
    "            if target_tensor is not None:\n",
    "                # Teacher forcing: Feed the target as the next input\n",
    "                decoder_input = target_tensor[:, i].unsqueeze(1)\n",
    "            else:\n",
    "                # Without teacher forcing: use its own predictions as the next input\n",
    "                _: torch.Tensor\n",
    "                topi: torch.Tensor\n",
    "                _, topi = decoder_output.topk(1)\n",
    "                decoder_input = topi.squeeze(-1).detach()\n",
    "        \n",
    "        decoder_outputs_cat: torch.Tensor = torch.cat(decoder_outputs, dim=1)\n",
    "        decoder_outputs_cat = F.log_softmax(decoder_outputs_cat, dim=-1)\n",
    "        attentions_cat: torch.Tensor = torch.cat(attentions, dim=1)\n",
    "        \n",
    "        return decoder_outputs_cat, decoder_hidden, attentions_cat\n",
    "    \n",
    "    def forward_step(\n",
    "        self, \n",
    "        input: torch.Tensor, \n",
    "        hidden: torch.Tensor, \n",
    "        encoder_outputs: torch.Tensor\n",
    "    ) -> Tuple[torch.Tensor, torch.Tensor, torch.Tensor]:\n",
    "        embedded: torch.Tensor = self.dropout(self.embedding(input))\n",
    "        \n",
    "        query: torch.Tensor = hidden.permute(1, 0, 2)\n",
    "        context: torch.Tensor\n",
    "        attn_weights: torch.Tensor\n",
    "        context, attn_weights = self.attention(query, encoder_outputs)\n",
    "        input_gru: torch.Tensor = torch.cat((embedded, context), dim=2)\n",
    "        \n",
    "        output: torch.Tensor\n",
    "        output, hidden = self.gru(input_gru, hidden)\n",
    "        output = self.out(output)\n",
    "        \n",
    "        return output, hidden, attn_weights"
   ],
   "id": "b31b6281076281eb",
   "outputs": [],
   "execution_count": 9
  },
  {
   "metadata": {
    "ExecuteTime": {
     "end_time": "2025-10-07T13:13:46.639601Z",
     "start_time": "2025-10-07T13:13:46.633659Z"
    }
   },
   "cell_type": "code",
   "source": [
    "def indexesFromSentence(lang: Lang, sentence: str) -> List[int]:\n",
    "    \"\"\"Convert sentence to list of word indices.\"\"\"\n",
    "    return [lang.word2index[word] for word in sentence.split(' ')]\n",
    "\n",
    "\n",
    "def tensorFromSentence(lang: Lang, sentence: str) -> torch.Tensor:\n",
    "    \"\"\"Convert sentence to tensor.\"\"\"\n",
    "    indexes: List[int] = indexesFromSentence(lang, sentence)\n",
    "    indexes.append(EOS_token)\n",
    "    return torch.tensor(indexes, dtype=torch.long, device=device).view(1, -1)\n",
    "\n",
    "\n",
    "def tensorsFromPair(pair: List[str]) -> Tuple[torch.Tensor, torch.Tensor]:\n",
    "    \"\"\"Convert a pair of sentences to tensors.\"\"\"\n",
    "    input_tensor: torch.Tensor = tensorFromSentence(input_lang, pair[0])\n",
    "    target_tensor: torch.Tensor = tensorFromSentence(output_lang, pair[1])\n",
    "    return (input_tensor, target_tensor)\n",
    "\n",
    "\n",
    "def get_dataloader(batch_size: int) -> Tuple[Lang, Lang, DataLoader]:\n",
    "    \"\"\"Create DataLoader for training.\"\"\"\n",
    "    input_lang_local: Lang\n",
    "    output_lang_local: Lang\n",
    "    pairs_local: List[List[str]]\n",
    "    input_lang_local, output_lang_local, pairs_local = prepareData('eng', 'fra', True)\n",
    "    \n",
    "    n: int = len(pairs_local)\n",
    "    input_ids: npt.NDArray[np.int32] = np.zeros((n, MAX_LENGTH), dtype=np.int32)\n",
    "    target_ids: npt.NDArray[np.int32] = np.zeros((n, MAX_LENGTH), dtype=np.int32)\n",
    "    \n",
    "    for idx, (inp, tgt) in enumerate(pairs_local):\n",
    "        inp_ids: List[int] = indexesFromSentence(input_lang_local, inp)\n",
    "        tgt_ids: List[int] = indexesFromSentence(output_lang_local, tgt)\n",
    "        inp_ids.append(EOS_token)\n",
    "        tgt_ids.append(EOS_token)\n",
    "        input_ids[idx, :len(inp_ids)] = inp_ids\n",
    "        target_ids[idx, :len(tgt_ids)] = tgt_ids\n",
    "    \n",
    "    train_data: TensorDataset = TensorDataset(\n",
    "        torch.LongTensor(input_ids).to(device),\n",
    "        torch.LongTensor(target_ids).to(device)\n",
    "    )\n",
    "    \n",
    "    train_sampler: RandomSampler = RandomSampler(train_data)\n",
    "    train_dataloader: DataLoader = DataLoader(train_data, sampler=train_sampler, batch_size=batch_size)\n",
    "    return input_lang_local, output_lang_local, train_dataloader"
   ],
   "id": "43b326ab41b177c3",
   "outputs": [],
   "execution_count": 10
  },
  {
   "metadata": {
    "ExecuteTime": {
     "end_time": "2025-10-07T13:13:59.019430Z",
     "start_time": "2025-10-07T13:13:59.012902Z"
    }
   },
   "cell_type": "code",
   "source": [
    "def train_epoch(\n",
    "    dataloader: DataLoader, \n",
    "    encoder: EncoderRNN, \n",
    "    decoder: nn.Module, \n",
    "    encoder_optimizer: optim.Optimizer,\n",
    "    decoder_optimizer: optim.Optimizer, \n",
    "    criterion: nn.Module\n",
    ") -> float:\n",
    "    \"\"\"Train for one epoch.\"\"\"\n",
    "    total_loss: float = 0.0\n",
    "    for data in dataloader:\n",
    "        input_tensor: torch.Tensor\n",
    "        target_tensor: torch.Tensor\n",
    "        input_tensor, target_tensor = data\n",
    "        \n",
    "        encoder_optimizer.zero_grad()\n",
    "        decoder_optimizer.zero_grad()\n",
    "        \n",
    "        encoder_outputs: torch.Tensor\n",
    "        encoder_hidden: torch.Tensor\n",
    "        encoder_outputs, encoder_hidden = encoder(input_tensor)\n",
    "        decoder_outputs: torch.Tensor\n",
    "        decoder_outputs, _, _ = decoder(encoder_outputs, encoder_hidden, target_tensor)\n",
    "        \n",
    "        loss: torch.Tensor = criterion(\n",
    "            decoder_outputs.view(-1, decoder_outputs.size(-1)),\n",
    "            target_tensor.view(-1)\n",
    "        )\n",
    "        loss.backward()\n",
    "        \n",
    "        encoder_optimizer.step()\n",
    "        decoder_optimizer.step()\n",
    "        \n",
    "        total_loss += loss.item()\n",
    "    \n",
    "    return total_loss / len(dataloader)"
   ],
   "id": "f0fd7f79efdf041a",
   "outputs": [],
   "execution_count": 11
  },
  {
   "metadata": {
    "ExecuteTime": {
     "end_time": "2025-10-07T13:14:09.035220Z",
     "start_time": "2025-10-07T13:14:09.032024Z"
    }
   },
   "cell_type": "code",
   "source": [
    "def asMinutes(s: float) -> str:\n",
    "    \"\"\"Convert seconds to minutes and seconds string.\"\"\"\n",
    "    m: int = math.floor(s / 60)\n",
    "    s -= m * 60\n",
    "    return '%dm %ds' % (m, s)\n",
    "\n",
    "\n",
    "def timeSince(since: float, percent: float) -> str:\n",
    "    \"\"\"Calculate elapsed and remaining time.\"\"\"\n",
    "    now: float = time.time()\n",
    "    s: float = now - since\n",
    "    es: float = s / percent\n",
    "    rs: float = es - s\n",
    "    return '%s (- %s)' % (asMinutes(s), asMinutes(rs))"
   ],
   "id": "cbf8b7ec07d528e3",
   "outputs": [],
   "execution_count": 12
  },
  {
   "metadata": {
    "ExecuteTime": {
     "end_time": "2025-10-07T13:14:17.844998Z",
     "start_time": "2025-10-07T13:14:17.838099Z"
    }
   },
   "cell_type": "code",
   "source": [
    "def train(\n",
    "    train_dataloader: DataLoader, \n",
    "    encoder: EncoderRNN, \n",
    "    decoder: nn.Module, \n",
    "    n_epochs: int, \n",
    "    learning_rate: float = 0.001,\n",
    "    print_every: int = 100, \n",
    "    plot_every: int = 100\n",
    ") -> None:\n",
    "    \"\"\"Train the model.\"\"\"\n",
    "    start: float = time.time()\n",
    "    plot_losses: List[float] = []\n",
    "    print_loss_total: float = 0.0\n",
    "    plot_loss_total: float = 0.0\n",
    "    \n",
    "    encoder_optimizer: optim.Adam = optim.Adam(encoder.parameters(), lr=learning_rate)\n",
    "    decoder_optimizer: optim.Adam = optim.Adam(decoder.parameters(), lr=learning_rate)\n",
    "    criterion: nn.NLLLoss = nn.NLLLoss()\n",
    "    \n",
    "    for epoch in range(1, n_epochs + 1):\n",
    "        loss: float = train_epoch(train_dataloader, encoder, decoder, encoder_optimizer, decoder_optimizer, criterion)\n",
    "        print_loss_total += loss\n",
    "        plot_loss_total += loss\n",
    "        \n",
    "        if epoch % print_every == 0:\n",
    "            print_loss_avg: float = print_loss_total / print_every\n",
    "            print_loss_total = 0.0\n",
    "            print('%s (%d %d%%) %.4f' % (timeSince(start, epoch / n_epochs),\n",
    "                                        epoch, epoch / n_epochs * 100, print_loss_avg))\n",
    "        \n",
    "        if epoch % plot_every == 0:\n",
    "            plot_loss_avg: float = plot_loss_total / plot_every\n",
    "            plot_losses.append(plot_loss_avg)\n",
    "            plot_loss_total = 0.0\n",
    "    \n",
    "    showPlot(plot_losses)"
   ],
   "id": "4b58bd569b3fd93c",
   "outputs": [],
   "execution_count": 13
  },
  {
   "metadata": {
    "ExecuteTime": {
     "end_time": "2025-10-07T13:14:33.720574Z",
     "start_time": "2025-10-07T13:14:32.914908Z"
    }
   },
   "cell_type": "code",
   "source": [
    "def showPlot(points: List[float]) -> None:\n",
    "    \"\"\"Plot training loss.\"\"\"\n",
    "    plt.figure()\n",
    "    fig: plt.Figure\n",
    "    ax: plt.Axes\n",
    "    fig, ax = plt.subplots()\n",
    "    loc: ticker.MultipleLocator = ticker.MultipleLocator(base=0.2)\n",
    "    ax.yaxis.set_major_locator(loc)\n",
    "    plt.plot(points)\n",
    "    plt.close(fig)"
   ],
   "id": "58a4f18b581256e1",
   "outputs": [],
   "execution_count": 14
  },
  {
   "metadata": {
    "ExecuteTime": {
     "end_time": "2025-10-07T13:14:44.388148Z",
     "start_time": "2025-10-07T13:14:44.382467Z"
    }
   },
   "cell_type": "code",
   "source": [
    "def evaluate(\n",
    "    encoder: EncoderRNN, \n",
    "    decoder: nn.Module, \n",
    "    sentence: str, \n",
    "    input_lang: Lang, \n",
    "    output_lang: Lang\n",
    ") -> Tuple[List[str], torch.Tensor]:\n",
    "    \"\"\"Evaluate a single sentence.\"\"\"\n",
    "    with torch.no_grad():\n",
    "        input_tensor: torch.Tensor = tensorFromSentence(input_lang, sentence)\n",
    "        \n",
    "        encoder_outputs: torch.Tensor\n",
    "        encoder_hidden: torch.Tensor\n",
    "        encoder_outputs, encoder_hidden = encoder(input_tensor)\n",
    "        decoder_outputs: torch.Tensor\n",
    "        decoder_attn: torch.Tensor\n",
    "        decoder_outputs, _, decoder_attn = decoder(encoder_outputs, encoder_hidden)\n",
    "        \n",
    "        _: torch.Tensor\n",
    "        topi: torch.Tensor\n",
    "        _, topi = decoder_outputs.topk(1)\n",
    "        decoded_ids: torch.Tensor = topi.squeeze()\n",
    "        \n",
    "        decoded_words: List[str] = []\n",
    "        for idx in decoded_ids:\n",
    "            if idx.item() == EOS_token:\n",
    "                decoded_words.append('<EOS>')\n",
    "                break\n",
    "            decoded_words.append(output_lang.index2word[idx.item()])\n",
    "    return decoded_words, decoder_attn"
   ],
   "id": "dcb4be394f4aed38",
   "outputs": [],
   "execution_count": 15
  },
  {
   "metadata": {
    "ExecuteTime": {
     "end_time": "2025-10-07T13:14:54.042197Z",
     "start_time": "2025-10-07T13:14:54.038195Z"
    }
   },
   "cell_type": "code",
   "source": [
    "def evaluateRandomly(encoder: EncoderRNN, decoder: nn.Module, n: int = 10) -> None:\n",
    "    \"\"\"Evaluate random examples.\"\"\"\n",
    "    for i in range(n):\n",
    "        pair: List[str] = random.choice(pairs)\n",
    "        print('>', pair[0])\n",
    "        print('=', pair[1])\n",
    "        output_words: List[str]\n",
    "        output_words, _ = evaluate(encoder, decoder, pair[0], input_lang, output_lang)\n",
    "        output_sentence: str = ' '.join(output_words)\n",
    "        print('<', output_sentence)\n",
    "        print('')"
   ],
   "id": "2b313226b5e3ea19",
   "outputs": [],
   "execution_count": 16
  },
  {
   "metadata": {
    "ExecuteTime": {
     "end_time": "2025-10-07T15:29:10.771395Z",
     "start_time": "2025-10-07T13:15:09.432364Z"
    }
   },
   "cell_type": "code",
   "source": [
    "# Training\n",
    "hidden_size: int = 128\n",
    "batch_size: int = 32\n",
    "\n",
    "input_lang, output_lang, train_dataloader = get_dataloader(batch_size)\n",
    "\n",
    "encoder: EncoderRNN = EncoderRNN(input_lang.n_words, hidden_size).to(device)\n",
    "decoder: AttnDecoderRNN = AttnDecoderRNN(hidden_size, output_lang.n_words).to(device)\n",
    "\n",
    "train(train_dataloader, encoder, decoder, 80, print_every=5, plot_every=5)"
   ],
   "id": "5ad08874766ecb72",
   "outputs": [
    {
     "name": "stdout",
     "output_type": "stream",
     "text": [
      "Reading lines...\n",
      "Read 135842 sentence pairs\n",
      "Trimmed to 11445 sentence pairs\n",
      "Counting words...\n",
      "Counted words:\n",
      "fra 4601\n",
      "eng 2991\n",
      "1m 48s (- 27m 8s) (5 6%) 1.5637\n",
      "3m 33s (- 24m 56s) (10 12%) 0.7162\n",
      "13m 12s (- 57m 12s) (15 18%) 0.3806\n",
      "30m 52s (- 92m 38s) (20 25%) 0.2159\n",
      "32m 51s (- 72m 16s) (25 31%) 0.1349\n",
      "34m 39s (- 57m 45s) (30 37%) 0.0933\n",
      "36m 29s (- 46m 54s) (35 43%) 0.0702\n",
      "45m 16s (- 45m 16s) (40 50%) 0.0564\n",
      "47m 3s (- 36m 35s) (45 56%) 0.0483\n",
      "48m 50s (- 29m 18s) (50 62%) 0.0423\n",
      "68m 48s (- 31m 16s) (55 68%) 0.0390\n",
      "70m 33s (- 23m 31s) (60 75%) 0.0365\n",
      "72m 19s (- 16m 41s) (65 81%) 0.0339\n",
      "92m 28s (- 13m 12s) (70 87%) 0.0323\n",
      "131m 33s (- 8m 46s) (75 93%) 0.0311\n",
      "133m 57s (- 0m 0s) (80 100%) 0.0298\n"
     ]
    }
   ],
   "execution_count": 17
  },
  {
   "metadata": {
    "ExecuteTime": {
     "end_time": "2025-10-07T15:30:55.105794Z",
     "start_time": "2025-10-07T15:30:54.957056Z"
    }
   },
   "cell_type": "code",
   "source": [
    "encoder.eval()\n",
    "decoder.eval()\n",
    "evaluateRandomly(encoder, decoder)"
   ],
   "id": "443429a3b249e83f",
   "outputs": [
    {
     "name": "stdout",
     "output_type": "stream",
     "text": [
      "> vous etes tres solitaire\n",
      "= you re very lonely\n",
      "< you re very lonely <EOS>\n",
      "\n",
      "> c est un puissant sorcier\n",
      "= he s a powerful sorcerer\n",
      "< he s a powerful sorcerer <EOS>\n",
      "\n",
      "> tu es ambitieux\n",
      "= you re ambitious\n",
      "< you re ambitious <EOS>\n",
      "\n",
      "> je suis creve\n",
      "= i am exhausted\n",
      "< i am tired <EOS>\n",
      "\n",
      "> je ne porte pas de chaussettes\n",
      "= i m not wearing socks\n",
      "< i m not wearing socks <EOS>\n",
      "\n",
      "> je nourris le poisson rouge\n",
      "= i m feeding the goldfish\n",
      "< i m feeding the goldfish <EOS>\n",
      "\n",
      "> je suis plus qu un ami\n",
      "= i m more than a friend\n",
      "< i m more than a friend <EOS>\n",
      "\n",
      "> ils ont de la chance d etre vivants\n",
      "= they re lucky to be alive\n",
      "< they re lucky to be alive <EOS>\n",
      "\n",
      "> tu es courtoise\n",
      "= you re courteous\n",
      "< you re courteous <EOS>\n",
      "\n",
      "> vous etes ambitieuses\n",
      "= you re ambitious\n",
      "< you re ambitious <EOS>\n",
      "\n"
     ]
    }
   ],
   "execution_count": 18
  },
  {
   "metadata": {
    "ExecuteTime": {
     "end_time": "2025-10-07T15:40:40.868461Z",
     "start_time": "2025-10-07T15:40:39.419428Z"
    }
   },
   "cell_type": "code",
   "source": [
    "import matplotlib.pyplot as plt\n",
    "from matplotlib import ticker\n",
    "\n",
    "# Включаем интерактивный режим для Jupyter\n",
    "%matplotlib inline\n",
    "\n",
    "def showAttention(input_sentence: str, output_words: List[str], attentions: torch.Tensor) -> None:\n",
    "    \"\"\"Display attention weights.\"\"\"\n",
    "    fig: plt.Figure = plt.figure(figsize=(10, 8))\n",
    "    ax: plt.Axes = fig.add_subplot(111)\n",
    "    cax = ax.matshow(attentions.cpu().numpy(), cmap='bone')\n",
    "    fig.colorbar(cax)\n",
    "    \n",
    "    input_words: List[str] = input_sentence.split(' ')\n",
    "    \n",
    "    ax.set_xticks(range(len(input_words) + 2))\n",
    "    ax.set_yticks(range(len(output_words) + 1))\n",
    "    \n",
    "    ax.set_xticklabels([''] + input_words + ['<EOS>'], rotation=90)\n",
    "    ax.set_yticklabels([''] + output_words)\n",
    "    \n",
    "    plt.tight_layout()\n",
    "    plt.show()\n",
    "    plt.close(fig)\n",
    "\n",
    "\n",
    "def evaluateAndShowAttention(input_sentence: str) -> None:\n",
    "    \"\"\"Evaluate and show attention for a sentence.\"\"\"\n",
    "    output_words: List[str]\n",
    "    attentions: torch.Tensor\n",
    "    output_words, attentions = evaluate(encoder, decoder, input_sentence, input_lang, output_lang)\n",
    "    print('input =', input_sentence)\n",
    "    print('output =', ' '.join(output_words))\n",
    "    showAttention(input_sentence, output_words, attentions[0, :len(output_words), :])\n",
    "    print('-' * 50)\n",
    "\n",
    "\n",
    "# Закрываем все предыдущие фигуры перед запуском\n",
    "plt.close('all')\n",
    "\n",
    "evaluateAndShowAttention('il n est pas aussi grand que son pere')\n",
    "evaluateAndShowAttention('je suis trop fatigue pour conduire')\n",
    "evaluateAndShowAttention('je suis desole si c est une question idiote')\n",
    "evaluateAndShowAttention('je suis reellement fiere de vous')"
   ],
   "id": "a5c76587b4968f9c",
   "outputs": [
    {
     "name": "stdout",
     "output_type": "stream",
     "text": [
      "input = il n est pas aussi grand que son pere\n",
      "output = he is not as tall as his father <EOS>\n"
     ]
    },
    {
     "data": {
      "text/plain": [
       "<Figure size 1000x800 with 2 Axes>"
      ],
      "image/png": "[encoded data removed]"
     },
     "metadata": {},
     "output_type": "display_data"
    },
    {
     "name": "stdout",
     "output_type": "stream",
     "text": [
      "--------------------------------------------------\n",
      "input = je suis trop fatigue pour conduire\n",
      "output = i m too tired to drive <EOS>\n"
     ]
    },
    {
     "data": {
      "text/plain": [
       "<Figure size 1000x800 with 2 Axes>"
      ],
      "image/png": "[encoded data removed]"
     },
     "metadata": {},
     "output_type": "display_data"
    },
    {
     "name": "stdout",
     "output_type": "stream",
     "text": [
      "--------------------------------------------------\n",
      "input = je suis desole si c est une question idiote\n",
      "output = i m sorry if this is a stupid question <EOS>\n"
     ]
    },
    {
     "data": {
      "text/plain": [
       "<Figure size 1000x800 with 2 Axes>"
      ],
      "image/png": "[encoded data removed]"
     },
     "metadata": {},
     "output_type": "display_data"
    },
    {
     "name": "stdout",
     "output_type": "stream",
     "text": [
      "--------------------------------------------------\n",
      "input = je suis reellement fiere de vous\n",
      "output = i m really proud of you <EOS>\n"
     ]
    },
    {
     "data": {
      "text/plain": [
       "<Figure size 1000x800 with 2 Axes>"
      ],
      "image/png": "[encoded data removed]"
     },
     "metadata": {},
     "output_type": "display_data"
    },
    {
     "name": "stdout",
     "output_type": "stream",
     "text": [
      "--------------------------------------------------\n"
     ]
    }
   ],
   "execution_count": 26
  }
 ],
 "metadata": {
  "kernelspec": {
   "display_name": "Python 3",
   "language": "python",
   "name": "python3"
  },
  "language_info": {
   "codemirror_mode": {
    "name": "ipython",
    "version": 2
   },
   "file_extension": ".py",
   "mimetype": "text/x-python",
   "name": "python",
   "nbconvert_exporter": "python",
   "pygments_lexer": "ipython2",
   "version": "2.7.6"
  }
 },
 "nbformat": 4,
 "nbformat_minor": 5
}
