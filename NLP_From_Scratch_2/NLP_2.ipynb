{
 "cells": [
  {
   "metadata": {},
   "cell_type": "markdown",
   "source": "",
   "id": "807fb74e10056774"
  },
  {
   "metadata": {},
   "cell_type": "markdown",
   "source": "# NLP From Scratch: Generating Names with a Character-Level RNN",
   "id": "82d370a0450b0a78"
  },
  {
   "metadata": {},
   "cell_type": "markdown",
   "source": "### Preparing the Data",
   "id": "69ff64213ec0689a"
  },
  {
   "cell_type": "code",
   "id": "initial_id",
   "metadata": {
    "collapsed": true,
    "ExecuteTime": {
     "end_time": "2025-10-07T02:52:42.506059Z",
     "start_time": "2025-10-07T02:52:42.455300Z"
    }
   },
   "source": [
    "from io import open\n",
    "import glob\n",
    "import os\n",
    "import unicodedata\n",
    "import string\n",
    "import random\n",
    "import time\n",
    "import math\n",
    "from typing import List, Dict, Tuple\n",
    "import torch\n",
    "import torch.nn as nn\n",
    "\n",
    "all_letters: str = string.ascii_letters + \" .,;'-\"\n",
    "n_letters: int = len(all_letters) + 1  # Plus EOS marker\n",
    "\n",
    "\n",
    "def findFiles(path: str) -> List[str]:\n",
    "    \"\"\"Find all files matching the given path pattern.\"\"\"\n",
    "    return glob.glob(path)\n",
    "\n",
    "def unicodeToAscii(s: str) -> str:\n",
    "    \"\"\"\n",
    "    Turn a Unicode string to plain ASCII.\n",
    "    Thanks to https://stackoverflow.com/a/518232/2809427\n",
    "    \"\"\"\n",
    "    return ''.join(\n",
    "        c for c in unicodedata.normalize('NFD', s)\n",
    "        if unicodedata.category(c) != 'Mn'\n",
    "        and c in all_letters\n",
    "    )\n",
    "\n",
    "\n",
    "def readLines(filename: str) -> List[str]:\n",
    "    \"\"\"Read a file and split into lines.\"\"\"\n",
    "    with open(filename, encoding='utf-8') as some_file:\n",
    "        return [unicodeToAscii(line.strip()) for line in some_file]\n",
    "\n",
    "# Build the category_lines dictionary, a list of lines per category\n",
    "category_lines: Dict[str, List[str]] = {}\n",
    "all_categories: List[str] = []\n",
    "\n",
    "for filename in findFiles('data/names/*.txt'):\n",
    "    category: str = os.path.splitext(os.path.basename(filename))[0]\n",
    "    all_categories.append(category)\n",
    "    lines: List[str] = readLines(filename)\n",
    "    category_lines[category] = lines\n",
    "\n",
    "n_categories: int = len(all_categories)\n",
    "\n",
    "if n_categories == 0:\n",
    "    raise RuntimeError('Data not found. Make sure that you downloaded data '\n",
    "        'from https://download.pytorch.org/tutorial/data.zip and extract it to '\n",
    "        'the current directory.')\n",
    "\n",
    "print('# categories:', n_categories, all_categories)\n",
    "print(unicodeToAscii(\"O'Néàl\"))"
   ],
   "outputs": [
    {
     "name": "stdout",
     "output_type": "stream",
     "text": [
      "# categories: 18 ['French', 'Korean', 'Greek', 'Dutch', 'Arabic', 'Portuguese', 'English', 'Czech', 'Chinese', 'Irish', 'Vietnamese', 'Japanese', 'Italian', 'Spanish', 'Russian', 'Polish', 'German', 'Scottish']\n",
      "O'Neal\n"
     ]
    }
   ],
   "execution_count": 1
  },
  {
   "metadata": {},
   "cell_type": "markdown",
   "source": "",
   "id": "ebbe56e511f3e513"
  },
  {
   "metadata": {},
   "cell_type": "markdown",
   "source": [
    "### Creating the Network\n",
    "\n",
    "#### ![](./RNN.png)"
   ],
   "id": "cd7d2d045ee6b0ca"
  },
  {
   "metadata": {
    "ExecuteTime": {
     "end_time": "2025-10-07T02:53:18.880997Z",
     "start_time": "2025-10-07T02:53:12.903420Z"
    }
   },
   "cell_type": "code",
   "source": [
    "class RNN(nn.Module):\n",
    "    \"\"\"RNN for generating names conditioned on category.\"\"\"\n",
    "    \n",
    "    def __init__(self, input_size: int, hidden_size: int, output_size: int) -> None:\n",
    "        super(RNN, self).__init__()\n",
    "        self.hidden_size: int = hidden_size\n",
    "        \n",
    "        self.i2h: nn.Linear = nn.Linear(n_categories + input_size + hidden_size, hidden_size)\n",
    "        self.i2o: nn.Linear = nn.Linear(n_categories + input_size + hidden_size, output_size)\n",
    "        self.o2o: nn.Linear = nn.Linear(hidden_size + output_size, output_size)\n",
    "        self.dropout: nn.Dropout = nn.Dropout(0.1)\n",
    "        self.softmax: nn.LogSoftmax = nn.LogSoftmax(dim=1)\n",
    "    \n",
    "    def forward(\n",
    "        self, \n",
    "        category: torch.Tensor, \n",
    "        input: torch.Tensor, \n",
    "        hidden: torch.Tensor\n",
    "    ) -> Tuple[torch.Tensor, torch.Tensor]:\n",
    "        input_combined: torch.Tensor = torch.cat((category, input, hidden), 1)\n",
    "        hidden = self.i2h(input_combined)\n",
    "        output: torch.Tensor = self.i2o(input_combined)\n",
    "        output_combined: torch.Tensor = torch.cat((hidden, output), 1)\n",
    "        output = self.o2o(output_combined)\n",
    "        output = self.dropout(output)\n",
    "        output = self.softmax(output)\n",
    "        return output, hidden\n",
    "    \n",
    "    def initHidden(self) -> torch.Tensor:\n",
    "        \"\"\"Initialize hidden state with zeros.\"\"\"\n",
    "        return torch.zeros(1, self.hidden_size)\n"
   ],
   "id": "bc9707dec493c9b6",
   "outputs": [],
   "execution_count": 2
  },
  {
   "metadata": {},
   "cell_type": "markdown",
   "source": "## Training",
   "id": "ff23a45d44db32ee"
  },
  {
   "metadata": {},
   "cell_type": "markdown",
   "source": [
    "### Preparing for Training\n",
    "\n",
    "#### ![](./tokens.png)"
   ],
   "id": "f2b21eb89fef8ead"
  },
  {
   "metadata": {},
   "cell_type": "markdown",
   "source": "",
   "id": "91ea646b443acd87"
  },
  {
   "metadata": {
    "ExecuteTime": {
     "end_time": "2025-10-07T02:53:30.186157Z",
     "start_time": "2025-10-07T02:53:30.181655Z"
    }
   },
   "cell_type": "code",
   "source": [
    "def randomChoice(l: List[str]) -> str:\n",
    "    \"\"\"Random item from a list.\"\"\"\n",
    "    return l[random.randint(0, len(l) - 1)]\n",
    "\n",
    "\n",
    "def randomTrainingPair() -> Tuple[str, str]:\n",
    "    \"\"\"Get a random category and random line from that category.\"\"\"\n",
    "    category: str = randomChoice(all_categories)\n",
    "    line: str = randomChoice(category_lines[category])\n",
    "    return category, line"
   ],
   "id": "a429b735e146fdfc",
   "outputs": [],
   "execution_count": 3
  },
  {
   "metadata": {
    "ExecuteTime": {
     "end_time": "2025-10-07T02:53:54.813197Z",
     "start_time": "2025-10-07T02:53:54.806516Z"
    }
   },
   "cell_type": "code",
   "source": [
    "def categoryTensor(category: str) -> torch.Tensor:\n",
    "    \"\"\"One-hot vector for category.\"\"\"\n",
    "    li: int = all_categories.index(category)\n",
    "    tensor: torch.Tensor = torch.zeros(1, n_categories)\n",
    "    tensor[0][li] = 1\n",
    "    return tensor\n",
    "\n",
    "\n",
    "def inputTensor(line: str) -> torch.Tensor:\n",
    "    \"\"\"One-hot matrix of first to last letters (not including EOS) for input.\"\"\"\n",
    "    tensor: torch.Tensor = torch.zeros(len(line), 1, n_letters)\n",
    "    for li in range(len(line)):\n",
    "        letter: str = line[li]\n",
    "        tensor[li][0][all_letters.find(letter)] = 1\n",
    "    return tensor\n",
    "\n",
    "\n",
    "def targetTensor(line: str) -> torch.LongTensor:\n",
    "    \"\"\"LongTensor of second letter to end (EOS) for target.\"\"\"\n",
    "    letter_indexes: List[int] = [all_letters.find(line[li]) for li in range(1, len(line))]\n",
    "    letter_indexes.append(n_letters - 1)  # EOS\n",
    "    return torch.LongTensor(letter_indexes)"
   ],
   "id": "bcdcdf69ae937288",
   "outputs": [],
   "execution_count": 5
  },
  {
   "metadata": {
    "ExecuteTime": {
     "end_time": "2025-10-07T02:54:02.631785Z",
     "start_time": "2025-10-07T02:54:02.628221Z"
    }
   },
   "cell_type": "code",
   "source": [
    "def randomTrainingExample() -> Tuple[torch.Tensor, torch.Tensor, torch.Tensor]:\n",
    "    \"\"\"Make category, input, and target tensors from a random category, line pair.\"\"\"\n",
    "    category: str\n",
    "    line: str\n",
    "    category, line = randomTrainingPair()\n",
    "    category_tensor: torch.Tensor = categoryTensor(category)\n",
    "    input_line_tensor: torch.Tensor = inputTensor(line)\n",
    "    target_line_tensor: torch.Tensor = targetTensor(line)\n",
    "    return category_tensor, input_line_tensor, target_line_tensor"
   ],
   "id": "c088de4b4dbc0766",
   "outputs": [],
   "execution_count": 6
  },
  {
   "metadata": {},
   "cell_type": "markdown",
   "source": "## Training the Network",
   "id": "e9b220ba141eb71e"
  },
  {
   "metadata": {
    "ExecuteTime": {
     "end_time": "2025-10-07T02:54:35.059557Z",
     "start_time": "2025-10-07T02:54:35.055568Z"
    }
   },
   "cell_type": "code",
   "source": [
    "criterion: nn.NLLLoss = nn.NLLLoss()\n",
    "learning_rate: float = 0.0005\n",
    "\n",
    "\n",
    "def train(\n",
    "    category_tensor: torch.Tensor, \n",
    "    input_line_tensor: torch.Tensor, \n",
    "    target_line_tensor: torch.Tensor\n",
    ") -> Tuple[torch.Tensor, float]:\n",
    "    \"\"\"Train the RNN on one example.\"\"\"\n",
    "    target_line_tensor.unsqueeze_(-1)\n",
    "    hidden: torch.Tensor = rnn.initHidden()\n",
    "    \n",
    "    rnn.zero_grad()\n",
    "    \n",
    "    loss: torch.Tensor = torch.Tensor([0])  # you can also just simply use loss = 0\n",
    "    \n",
    "    for i in range(input_line_tensor.size(0)):\n",
    "        output: torch.Tensor\n",
    "        output, hidden = rnn(category_tensor, input_line_tensor[i], hidden)\n",
    "        l: torch.Tensor = criterion(output, target_line_tensor[i])\n",
    "        loss += l\n",
    "    \n",
    "    loss.backward()\n",
    "    \n",
    "    for p in rnn.parameters():\n",
    "        p.data.add_(p.grad.data, alpha=-learning_rate)\n",
    "    \n",
    "    return output, loss.item() / input_line_tensor.size(0)"
   ],
   "id": "795dda28c339ece7",
   "outputs": [],
   "execution_count": 7
  },
  {
   "metadata": {
    "ExecuteTime": {
     "end_time": "2025-10-07T02:54:56.935865Z",
     "start_time": "2025-10-07T02:54:56.931186Z"
    }
   },
   "cell_type": "code",
   "source": [
    "def timeSince(since: float) -> str:\n",
    "    \"\"\"Calculate time elapsed since given timestamp.\"\"\"\n",
    "    now: float = time.time()\n",
    "    s: float = now - since\n",
    "    m: int = math.floor(s / 60)\n",
    "    s -= m * 60\n",
    "    return '%dm %ds' % (m, s)"
   ],
   "id": "4e0cf046f47749c0",
   "outputs": [],
   "execution_count": 8
  },
  {
   "metadata": {
    "ExecuteTime": {
     "end_time": "2025-10-07T03:50:27.885272Z",
     "start_time": "2025-10-07T02:55:09.318058Z"
    }
   },
   "cell_type": "code",
   "source": [
    "# Initialize RNN\n",
    "rnn: RNN = RNN(n_letters, 128, n_letters)\n",
    "\n",
    "# Training parameters\n",
    "n_iters: int = 100000\n",
    "print_every: int = 5000\n",
    "plot_every: int = 500\n",
    "all_losses: List[float] = []\n",
    "total_loss: float = 0  # Reset every plot_every iters\n",
    "\n",
    "start: float = time.time()\n",
    "\n",
    "for iter in range(1, n_iters + 1):\n",
    "    output: torch.Tensor\n",
    "    loss: float\n",
    "    output, loss = train(*randomTrainingExample())\n",
    "    total_loss += loss\n",
    "    \n",
    "    if iter % print_every == 0:\n",
    "        print('%s (%d %d%%) %.4f' % (timeSince(start), iter, iter / n_iters * 100, loss))\n",
    "    \n",
    "    if iter % plot_every == 0:\n",
    "        all_losses.append(total_loss / plot_every)\n",
    "        total_loss = 0"
   ],
   "id": "c2995d9bccee911a",
   "outputs": [
    {
     "name": "stdout",
     "output_type": "stream",
     "text": [
      "0m 45s (5000 5%) 3.1372\n",
      "1m 30s (10000 10%) 2.5217\n",
      "2m 18s (15000 15%) 2.4505\n",
      "3m 2s (20000 20%) 2.8585\n",
      "3m 47s (25000 25%) 2.6742\n",
      "4m 34s (30000 30%) 1.8222\n",
      "7m 55s (35000 35%) 2.5262\n",
      "15m 10s (40000 40%) 2.6852\n",
      "22m 50s (45000 45%) 2.1762\n",
      "29m 45s (50000 50%) 1.6231\n",
      "36m 53s (55000 55%) 1.8567\n",
      "44m 24s (60000 60%) 2.1655\n",
      "47m 26s (65000 65%) 2.6928\n",
      "48m 11s (70000 70%) 1.5393\n",
      "48m 58s (75000 75%) 1.1303\n",
      "49m 43s (80000 80%) 2.0354\n",
      "50m 27s (85000 85%) 2.2962\n",
      "51m 14s (90000 90%) 2.1080\n",
      "51m 59s (95000 95%) 2.7552\n",
      "55m 18s (100000 100%) 1.3110\n"
     ]
    }
   ],
   "execution_count": 9
  },
  {
   "metadata": {},
   "cell_type": "markdown",
   "source": "### Plotting the Losses",
   "id": "a30f11cafc4a61b0"
  },
  {
   "metadata": {
    "ExecuteTime": {
     "end_time": "2025-10-07T03:50:59.888668Z",
     "start_time": "2025-10-07T03:50:58.266278Z"
    }
   },
   "cell_type": "code",
   "source": [
    "import matplotlib.pyplot as plt\n",
    "\n",
    "plt.figure()\n",
    "plt.plot(all_losses)"
   ],
   "id": "5786a7fcfec63aae",
   "outputs": [
    {
     "data": {
      "text/plain": [
       "[<matplotlib.lines.Line2D at 0x7881f316f5f0>]"
      ]
     },
     "execution_count": 10,
     "metadata": {},
     "output_type": "execute_result"
    },
    {
     "data": {
      "text/plain": [
       "<Figure size 640x480 with 1 Axes>"
      ],
      "image/png": "[encoded data removed]"
     },
     "metadata": {},
     "output_type": "display_data"
    }
   ],
   "execution_count": 10
  },
  {
   "metadata": {},
   "cell_type": "markdown",
   "source": "### Sampling the Network",
   "id": "5747edca9871a274"
  },
  {
   "metadata": {
    "ExecuteTime": {
     "end_time": "2025-10-07T03:51:18.131676Z",
     "start_time": "2025-10-07T03:51:18.093639Z"
    }
   },
   "cell_type": "code",
   "source": [
    "max_length: int = 20\n",
    "\n",
    "\n",
    "def sample(category: str, start_letter: str = 'A') -> str:\n",
    "    \"\"\"Sample from a category and starting letter.\"\"\"\n",
    "    with torch.no_grad():  # no need to track history in sampling\n",
    "        category_tensor: torch.Tensor = categoryTensor(category)\n",
    "        input: torch.Tensor = inputTensor(start_letter)\n",
    "        hidden: torch.Tensor = rnn.initHidden()\n",
    "        \n",
    "        output_name: str = start_letter\n",
    "        \n",
    "        for i in range(max_length):\n",
    "            output: torch.Tensor\n",
    "            output, hidden = rnn(category_tensor, input[0], hidden)\n",
    "            topv: torch.Tensor\n",
    "            topi: torch.Tensor\n",
    "            topv, topi = output.topk(1)\n",
    "            topi_item: int = topi[0][0].item()\n",
    "            if topi_item == n_letters - 1:\n",
    "                break\n",
    "            else:\n",
    "                letter: str = all_letters[topi_item]\n",
    "                output_name += letter\n",
    "            input = inputTensor(letter)\n",
    "        \n",
    "        return output_name\n",
    "\n",
    "\n",
    "def samples(category: str, start_letters: str = 'ABC') -> None:\n",
    "    \"\"\"Get multiple samples from one category and multiple starting letters.\"\"\"\n",
    "    for start_letter in start_letters:\n",
    "        print(sample(category, start_letter))\n",
    "\n",
    "# Generate samples\n",
    "samples('Russian', 'RUS')\n",
    "\n",
    "samples('German', 'GER')\n",
    "\n",
    "samples('Spanish', 'SPA')\n",
    "\n",
    "samples('Chinese', 'CHI')"
   ],
   "id": "fa6b88d52f582c12",
   "outputs": [
    {
     "name": "stdout",
     "output_type": "stream",
     "text": [
      "Rovaki\n",
      "Uakin\n",
      "Shaki\n",
      "Gertan\n",
      "Eren\n",
      "Roure\n",
      "Sallan\n",
      "Pare\n",
      "Aranar\n",
      "Cun\n",
      "Han\n",
      "Iun\n"
     ]
    }
   ],
   "execution_count": 11
  }
 ],
 "metadata": {
  "kernelspec": {
   "display_name": "Python 3",
   "language": "python",
   "name": "python3"
  },
  "language_info": {
   "codemirror_mode": {
    "name": "ipython",
    "version": 2
   },
   "file_extension": ".py",
   "mimetype": "text/x-python",
   "name": "python",
   "nbconvert_exporter": "python",
   "pygments_lexer": "ipython2",
   "version": "2.7.6"
  }
 },
 "nbformat": 4,
 "nbformat_minor": 5
}
