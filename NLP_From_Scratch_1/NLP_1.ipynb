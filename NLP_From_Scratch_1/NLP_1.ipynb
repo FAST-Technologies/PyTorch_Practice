{
 "cells": [
  {
   "cell_type": "code",
   "id": "initial_id",
   "metadata": {
    "collapsed": true,
    "ExecuteTime": {
     "end_time": "2025-10-07T15:47:19.013690Z",
     "start_time": "2025-10-07T15:47:18.746816Z"
    }
   },
   "source": [
    "import torch\n",
    "import torch.nn as nn\n",
    "import torch.nn.functional as F\n",
    "from torch.utils.data import Dataset\n",
    "import string\n",
    "import unicodedata\n",
    "from io import open\n",
    "import glob\n",
    "import os\n",
    "import time\n",
    "import random\n",
    "import numpy as np\n",
    "from typing import List, Tuple, Set, Optional\n",
    "import matplotlib.pyplot as plt\n",
    "from matplotlib import ticker\n",
    "import numpy.typing as npt\n",
    "\n",
    "# Check if CUDA is available\n",
    "device: torch.device = torch.device('cpu')\n",
    "if torch.cuda.is_available():\n",
    "    device = torch.device('cuda')\n",
    "\n",
    "torch.set_default_device(device)\n",
    "print(f\"Using device = {torch.get_default_device()}\")"
   ],
   "outputs": [
    {
     "name": "stdout",
     "output_type": "stream",
     "text": [
      "Using device = cpu\n"
     ]
    }
   ],
   "execution_count": 15
  },
  {
   "metadata": {
    "ExecuteTime": {
     "end_time": "2025-10-07T02:31:23.244261Z",
     "start_time": "2025-10-07T02:31:23.185460Z"
    }
   },
   "cell_type": "code",
   "source": [
    "allowed_characters: str = string.ascii_letters + \" .,;'\" + \"_\"\n",
    "n_letters: int = len(allowed_characters)\n",
    "\n",
    "def unicodeToAscii(s: str) -> str:\n",
    "    \"\"\"Convert Unicode string to ASCII, filtering allowed characters.\"\"\"\n",
    "    return ''.join(\n",
    "        c for c in unicodedata.normalize('NFD', s)\n",
    "        if unicodedata.category(c) != 'Mn'\n",
    "        and c in allowed_characters\n",
    "    )"
   ],
   "id": "5965f373fd8a1275",
   "outputs": [],
   "execution_count": 2
  },
  {
   "metadata": {
    "ExecuteTime": {
     "end_time": "2025-10-07T02:31:54.934605Z",
     "start_time": "2025-10-07T02:31:54.910076Z"
    }
   },
   "cell_type": "code",
   "source": "print (f\"converting 'Ślusàrski' to {unicodeToAscii('Ślusàrski')}\")",
   "id": "83aad3285cd08897",
   "outputs": [
    {
     "name": "stdout",
     "output_type": "stream",
     "text": [
      "converting 'Ślusàrski' to Slusarski\n"
     ]
    }
   ],
   "execution_count": 3
  },
  {
   "metadata": {
    "ExecuteTime": {
     "end_time": "2025-10-07T02:32:49.659126Z",
     "start_time": "2025-10-07T02:32:49.555341Z"
    }
   },
   "cell_type": "code",
   "source": [
    "def letterToIndex(letter: str) -> int:\n",
    "    \"\"\"\n",
    "    Find letter index from allowed_characters.\n",
    "    Returns index of '_' for out-of-vocabulary characters.\n",
    "    \"\"\"\n",
    "    if letter not in allowed_characters:\n",
    "        return allowed_characters.find(\"_\")\n",
    "    else:\n",
    "        return allowed_characters.find(letter)\n",
    "\n",
    "def lineToTensor(line: str) -> torch.Tensor:\n",
    "    \"\"\"\n",
    "    Turn a line into a <line_length x 1 x n_letters> tensor,\n",
    "    or an array of one-hot letter vectors.\n",
    "    \"\"\"\n",
    "    tensor: torch.Tensor = torch.zeros(len(line), 1, n_letters)\n",
    "    for li, letter in enumerate(line):\n",
    "        tensor[li][0][letterToIndex(letter)] = 1\n",
    "    return tensor\n",
    "\n",
    "print (f\"The letter 'a' becomes {lineToTensor('a')}\") #notice that the first position in the tensor = 1\n",
    "print (f\"The name 'Ahn' becomes {lineToTensor('Ahn')}\") #notice 'A' sets the 27th index to 1"
   ],
   "id": "5a677f622f5be0f6",
   "outputs": [
    {
     "name": "stdout",
     "output_type": "stream",
     "text": [
      "The letter 'a' becomes tensor([[[1., 0., 0., 0., 0., 0., 0., 0., 0., 0., 0., 0., 0., 0., 0., 0., 0.,\n",
      "          0., 0., 0., 0., 0., 0., 0., 0., 0., 0., 0., 0., 0., 0., 0., 0., 0.,\n",
      "          0., 0., 0., 0., 0., 0., 0., 0., 0., 0., 0., 0., 0., 0., 0., 0., 0.,\n",
      "          0., 0., 0., 0., 0., 0., 0.]]])\n",
      "The name 'Ahn' becomes tensor([[[0., 0., 0., 0., 0., 0., 0., 0., 0., 0., 0., 0., 0., 0., 0., 0., 0.,\n",
      "          0., 0., 0., 0., 0., 0., 0., 0., 0., 1., 0., 0., 0., 0., 0., 0., 0.,\n",
      "          0., 0., 0., 0., 0., 0., 0., 0., 0., 0., 0., 0., 0., 0., 0., 0., 0.,\n",
      "          0., 0., 0., 0., 0., 0., 0.]],\n",
      "\n",
      "        [[0., 0., 0., 0., 0., 0., 0., 1., 0., 0., 0., 0., 0., 0., 0., 0., 0.,\n",
      "          0., 0., 0., 0., 0., 0., 0., 0., 0., 0., 0., 0., 0., 0., 0., 0., 0.,\n",
      "          0., 0., 0., 0., 0., 0., 0., 0., 0., 0., 0., 0., 0., 0., 0., 0., 0.,\n",
      "          0., 0., 0., 0., 0., 0., 0.]],\n",
      "\n",
      "        [[0., 0., 0., 0., 0., 0., 0., 0., 0., 0., 0., 0., 0., 1., 0., 0., 0.,\n",
      "          0., 0., 0., 0., 0., 0., 0., 0., 0., 0., 0., 0., 0., 0., 0., 0., 0.,\n",
      "          0., 0., 0., 0., 0., 0., 0., 0., 0., 0., 0., 0., 0., 0., 0., 0., 0.,\n",
      "          0., 0., 0., 0., 0., 0., 0.]]])\n"
     ]
    }
   ],
   "execution_count": 4
  },
  {
   "metadata": {
    "ExecuteTime": {
     "end_time": "2025-10-07T02:33:36.550909Z",
     "start_time": "2025-10-07T02:33:36.539842Z"
    }
   },
   "cell_type": "code",
   "source": [
    "class NamesDataset(Dataset):\n",
    "    \"\"\"Dataset for loading names from text files organized by language/origin.\"\"\"\n",
    "    def __init__(self, data_dir: str) -> None:\n",
    "        self.data_dir: str = data_dir #for provenance of the dataset\n",
    "        self.load_time: time.struct_time = time.localtime() #for provenance of the dataset\n",
    "        labels_set: Set[str] = set() #set of all classes\n",
    "\n",
    "        self.data: List[str] = []\n",
    "        self.data_tensors: List[torch.Tensor] = []\n",
    "        self.labels: List[str] = []\n",
    "        self.labels_tensors: List[torch.Tensor] = []\n",
    "\n",
    "        #read all the ``.txt`` files in the specified directory\n",
    "        text_files: List[str] = glob.glob(os.path.join(data_dir, '*.txt'))\n",
    "        for filename in text_files:\n",
    "            label: str = os.path.splitext(os.path.basename(filename))[0]\n",
    "            labels_set.add(label)\n",
    "            lines: List[str] = open(filename, encoding='utf-8').read().strip().split('\\n')\n",
    "            for name in lines:\n",
    "                self.data.append(name)\n",
    "                self.data_tensors.append(lineToTensor(name))\n",
    "                self.labels.append(label)\n",
    "\n",
    "        #Cache the tensor representation of the labels\n",
    "        self.labels_uniq: List[str] = list(labels_set)\n",
    "        for idx in range(len(self.labels)):\n",
    "            temp_tensor: torch.Tensor = torch.tensor([self.labels_uniq.index(self.labels[idx])], dtype=torch.long)\n",
    "            self.labels_tensors.append(temp_tensor)\n",
    "\n",
    "    def __len__(self) -> int:\n",
    "        return len(self.data)\n",
    "\n",
    "    def __getitem__(self, idx: int) -> Tuple[torch.Tensor, torch.Tensor, str, str]:\n",
    "        data_item: str = self.data[idx]\n",
    "        data_label: str = self.labels[idx]\n",
    "        data_tensor: torch.Tensor = self.data_tensors[idx]\n",
    "        label_tensor: torch.Tensor = self.labels_tensors[idx]\n",
    "\n",
    "        return label_tensor, data_tensor, data_label, data_item"
   ],
   "id": "f744c545454bd20d",
   "outputs": [],
   "execution_count": 5
  },
  {
   "metadata": {
    "ExecuteTime": {
     "end_time": "2025-10-07T02:34:59.334180Z",
     "start_time": "2025-10-07T02:34:54.401951Z"
    }
   },
   "cell_type": "code",
   "source": [
    "alldata: NamesDataset = NamesDataset(\"data/names\")\n",
    "print(f\"loaded {len(alldata)} items of data\")\n",
    "print(f\"example = {alldata[0]}\")"
   ],
   "id": "9bcc86510b1e4f07",
   "outputs": [
    {
     "name": "stdout",
     "output_type": "stream",
     "text": [
      "loaded 20074 items of data\n",
      "example = (tensor([2]), tensor([[[0., 0., 0., 0., 0., 0., 0., 0., 0., 0., 0., 0., 0., 0., 0., 0., 0.,\n",
      "          0., 0., 0., 0., 0., 0., 0., 0., 0., 1., 0., 0., 0., 0., 0., 0., 0.,\n",
      "          0., 0., 0., 0., 0., 0., 0., 0., 0., 0., 0., 0., 0., 0., 0., 0., 0.,\n",
      "          0., 0., 0., 0., 0., 0., 0.]],\n",
      "\n",
      "        [[0., 1., 0., 0., 0., 0., 0., 0., 0., 0., 0., 0., 0., 0., 0., 0., 0.,\n",
      "          0., 0., 0., 0., 0., 0., 0., 0., 0., 0., 0., 0., 0., 0., 0., 0., 0.,\n",
      "          0., 0., 0., 0., 0., 0., 0., 0., 0., 0., 0., 0., 0., 0., 0., 0., 0.,\n",
      "          0., 0., 0., 0., 0., 0., 0.]],\n",
      "\n",
      "        [[0., 0., 0., 0., 1., 0., 0., 0., 0., 0., 0., 0., 0., 0., 0., 0., 0.,\n",
      "          0., 0., 0., 0., 0., 0., 0., 0., 0., 0., 0., 0., 0., 0., 0., 0., 0.,\n",
      "          0., 0., 0., 0., 0., 0., 0., 0., 0., 0., 0., 0., 0., 0., 0., 0., 0.,\n",
      "          0., 0., 0., 0., 0., 0., 0.]],\n",
      "\n",
      "        [[0., 0., 0., 0., 0., 0., 0., 0., 0., 0., 0., 1., 0., 0., 0., 0., 0.,\n",
      "          0., 0., 0., 0., 0., 0., 0., 0., 0., 0., 0., 0., 0., 0., 0., 0., 0.,\n",
      "          0., 0., 0., 0., 0., 0., 0., 0., 0., 0., 0., 0., 0., 0., 0., 0., 0.,\n",
      "          0., 0., 0., 0., 0., 0., 0.]]]), 'French', 'Abel')\n"
     ]
    }
   ],
   "execution_count": 6
  },
  {
   "metadata": {
    "ExecuteTime": {
     "end_time": "2025-10-07T02:35:23.903555Z",
     "start_time": "2025-10-07T02:35:23.884794Z"
    }
   },
   "cell_type": "code",
   "source": [
    "train_set, test_set = torch.utils.data.random_split(\n",
    "    alldata, \n",
    "    [.85, .15], \n",
    "    generator=torch.Generator(device=device).manual_seed(2024)\n",
    ")\n",
    "\n",
    "print(f\"train examples = {len(train_set)}, validation examples = {len(test_set)}\")"
   ],
   "id": "d027fedffb6d97bb",
   "outputs": [
    {
     "name": "stdout",
     "output_type": "stream",
     "text": [
      "train examples = 17063, validation examples = 3011\n"
     ]
    }
   ],
   "execution_count": 7
  },
  {
   "metadata": {
    "ExecuteTime": {
     "end_time": "2025-10-07T02:35:57.988645Z",
     "start_time": "2025-10-07T02:35:57.980995Z"
    }
   },
   "cell_type": "code",
   "source": [
    "class CharRNN(nn.Module):\n",
    "    \"\"\"Character-level RNN for name classification.\"\"\"\n",
    "    def __init__(self, input_size: int, hidden_size: int, output_size: int) -> None:\n",
    "        super(CharRNN, self).__init__()\n",
    "\n",
    "        self.rnn: nn.RNN = nn.RNN(input_size, hidden_size)\n",
    "        self.h2o: nn.Linear = nn.Linear(hidden_size, output_size)\n",
    "        self.softmax: nn.LogSoftmax = nn.LogSoftmax(dim=1)\n",
    "\n",
    "    def forward(self, line_tensor: torch.Tensor) -> torch.Tensor:\n",
    "        rnn_out: torch.Tensor\n",
    "        hidden: torch.Tensor\n",
    "        rnn_out, hidden = self.rnn(line_tensor)\n",
    "        output: torch.Tensor = self.h2o(hidden[0])\n",
    "        output = self.softmax(output)\n",
    "\n",
    "        return output"
   ],
   "id": "76cdbf13c379d872",
   "outputs": [],
   "execution_count": 8
  },
  {
   "metadata": {
    "ExecuteTime": {
     "end_time": "2025-10-07T02:36:10.265171Z",
     "start_time": "2025-10-07T02:36:10.244328Z"
    }
   },
   "cell_type": "code",
   "source": [
    "n_hidden: int = 128\n",
    "rnn: CharRNN = CharRNN(n_letters, n_hidden, len(alldata.labels_uniq))\n",
    "print(rnn)"
   ],
   "id": "3931c818b870c3e",
   "outputs": [
    {
     "name": "stdout",
     "output_type": "stream",
     "text": [
      "CharRNN(\n",
      "  (rnn): RNN(58, 128)\n",
      "  (h2o): Linear(in_features=128, out_features=18, bias=True)\n",
      "  (softmax): LogSoftmax(dim=1)\n",
      ")\n"
     ]
    }
   ],
   "execution_count": 9
  },
  {
   "metadata": {
    "ExecuteTime": {
     "end_time": "2025-10-07T02:36:25.397118Z",
     "start_time": "2025-10-07T02:36:25.348977Z"
    }
   },
   "cell_type": "code",
   "source": [
    "def label_from_output(output: torch.Tensor, output_labels: List[str]) -> Tuple[str, int]:\n",
    "    \"\"\"Extract the most likely label from model output.\"\"\"\n",
    "    top_n: torch.Tensor\n",
    "    top_i: torch.Tensor\n",
    "    top_n, top_i = output.topk(1)\n",
    "    label_i: int = top_i[0].item()\n",
    "    return output_labels[label_i], label_i\n",
    "\n",
    "\n",
    "input_tensor: torch.Tensor = lineToTensor('Albert')\n",
    "output: torch.Tensor = rnn(input_tensor)\n",
    "print(output)\n",
    "print(label_from_output(output, alldata.labels_uniq))"
   ],
   "id": "e1111b104efd0280",
   "outputs": [
    {
     "name": "stdout",
     "output_type": "stream",
     "text": [
      "tensor([[-2.9240, -2.9664, -2.8905, -2.9793, -2.9997, -2.8769, -2.9208, -2.8461,\n",
      "         -2.9038, -2.8152, -2.9844, -2.9064, -2.7845, -2.8191, -2.8395, -2.9161,\n",
      "         -2.8343, -2.8541]], grad_fn=<LogSoftmaxBackward0>)\n",
      "('English', 12)\n"
     ]
    }
   ],
   "execution_count": 10
  },
  {
   "metadata": {
    "ExecuteTime": {
     "end_time": "2025-10-07T02:37:00.589712Z",
     "start_time": "2025-10-07T02:37:00.578532Z"
    }
   },
   "cell_type": "code",
   "source": [
    "def train(\n",
    "    rnn: CharRNN, \n",
    "    training_data: torch.utils.data.Subset, \n",
    "    n_epoch: int = 10, \n",
    "    n_batch_size: int = 64, \n",
    "    report_every: int = 50, \n",
    "    learning_rate: float = 0.2, \n",
    "    criterion: nn.Module = nn.NLLLoss()\n",
    ") -> List[float]:\n",
    "    \"\"\"\n",
    "    Learn on a batch of training_data for a specified number of iterations \n",
    "    and reporting thresholds.\n",
    "    \"\"\"\n",
    "    # Keep track of losses for plotting\n",
    "    current_loss: float = 0.0\n",
    "    all_losses: List[float] = []\n",
    "    rnn.train()\n",
    "    optimizer: torch.optim.SGD = torch.optim.SGD(rnn.parameters(), lr=learning_rate)\n",
    "    \n",
    "    start: float = time.time()\n",
    "    print(f\"training on data set with n = {len(training_data)}\")\n",
    "    \n",
    "    for iter in range(1, n_epoch + 1):\n",
    "        rnn.zero_grad()\n",
    "        \n",
    "        # Create minibatches\n",
    "        batches_indices: List[int] = list(range(len(training_data)))\n",
    "        random.shuffle(batches_indices)\n",
    "        batches: List[npt.NDArray[np.int_]] = np.array_split(\n",
    "            batches_indices, \n",
    "            len(batches_indices) // n_batch_size\n",
    "        )\n",
    "        \n",
    "        for idx, batch in enumerate(batches):\n",
    "            batch_loss: torch.Tensor = torch.tensor(0.0)\n",
    "            for i in batch:\n",
    "                label_tensor: torch.Tensor\n",
    "                text_tensor: torch.Tensor\n",
    "                label: str\n",
    "                text: str\n",
    "                (label_tensor, text_tensor, label, text) = training_data[i]\n",
    "                output: torch.Tensor = rnn.forward(text_tensor)\n",
    "                loss: torch.Tensor = criterion(output, label_tensor)\n",
    "                batch_loss += loss\n",
    "            \n",
    "            # Optimize parameters\n",
    "            batch_loss.backward()\n",
    "            nn.utils.clip_grad_norm_(rnn.parameters(), 3)\n",
    "            optimizer.step()\n",
    "            optimizer.zero_grad()\n",
    "            \n",
    "            current_loss += batch_loss.item() / len(batch)\n",
    "        \n",
    "        all_losses.append(current_loss / len(batches))\n",
    "        if iter % report_every == 0:\n",
    "            print(f\"{iter} ({iter / n_epoch:.0%}): \\t average batch loss = {all_losses[-1]}\")\n",
    "        current_loss = 0.0\n",
    "    \n",
    "    return all_losses"
   ],
   "id": "9d9df70f585622f7",
   "outputs": [],
   "execution_count": 11
  },
  {
   "metadata": {
    "ExecuteTime": {
     "end_time": "2025-10-07T02:48:25.935714Z",
     "start_time": "2025-10-07T02:37:23.011629Z"
    }
   },
   "cell_type": "code",
   "source": [
    "start: float = time.time()\n",
    "all_losses: List[float] = train(rnn, train_set, n_epoch=27, learning_rate=0.15, report_every=5)\n",
    "end: float = time.time()\n",
    "print(f\"training took {end-start}s\")"
   ],
   "id": "40e405d2e362adb4",
   "outputs": [
    {
     "name": "stdout",
     "output_type": "stream",
     "text": [
      "training on data set with n = 17063\n",
      "5 (19%): \t average batch loss = 0.8911239913462766\n",
      "10 (37%): \t average batch loss = 0.7036155277918087\n",
      "15 (56%): \t average batch loss = 0.5849141215367977\n",
      "20 (74%): \t average batch loss = 0.5029432659551821\n",
      "25 (93%): \t average batch loss = 0.4440871454219449\n",
      "training took 662.9179763793945s\n"
     ]
    }
   ],
   "execution_count": 12
  },
  {
   "metadata": {
    "ExecuteTime": {
     "end_time": "2025-10-07T02:49:38.811161Z",
     "start_time": "2025-10-07T02:49:36.982180Z"
    }
   },
   "cell_type": "code",
   "source": [
    "import matplotlib.pyplot as plt\n",
    "import matplotlib.ticker as ticker\n",
    "\n",
    "plt.figure()\n",
    "plt.plot(all_losses)\n",
    "plt.show()"
   ],
   "id": "8a0c227efe0949d1",
   "outputs": [
    {
     "data": {
      "text/plain": [
       "<Figure size 640x480 with 1 Axes>"
      ],
      "image/png": "[encoded data removed]"
     },
     "metadata": {},
     "output_type": "display_data"
    }
   ],
   "execution_count": 13
  },
  {
   "metadata": {
    "ExecuteTime": {
     "end_time": "2025-10-07T02:50:08.880267Z",
     "start_time": "2025-10-07T02:50:06.589937Z"
    }
   },
   "cell_type": "code",
   "source": [
    "def evaluate(rnn: CharRNN, testing_data: torch.utils.data.Subset, classes: List[str]) -> None:\n",
    "    \"\"\"Evaluate the model and display a confusion matrix.\"\"\"\n",
    "    confusion: torch.Tensor = torch.zeros(len(classes), len(classes))\n",
    "    \n",
    "    rnn.eval()\n",
    "    with torch.no_grad():\n",
    "        for i in range(len(testing_data)):\n",
    "            label_tensor: torch.Tensor\n",
    "            text_tensor: torch.Tensor\n",
    "            label: str\n",
    "            text: str\n",
    "            (label_tensor, text_tensor, label, text) = testing_data[i]\n",
    "            output: torch.Tensor = rnn(text_tensor)\n",
    "            guess: str\n",
    "            guess_i: int\n",
    "            guess, guess_i = label_from_output(output, classes)\n",
    "            label_i: int = classes.index(label)\n",
    "            confusion[label_i][guess_i] += 1\n",
    "    \n",
    "    # Normalize by dividing every row by its sum\n",
    "    for i in range(len(classes)):\n",
    "        denom: torch.Tensor = confusion[i].sum()\n",
    "        if denom > 0:\n",
    "            confusion[i] = confusion[i] / denom\n",
    "    \n",
    "    # Set up plot\n",
    "    fig: plt.Figure = plt.figure(figsize=(10, 10))\n",
    "    ax: plt.Axes = fig.add_subplot(111)\n",
    "    cax = ax.matshow(confusion.cpu().numpy())\n",
    "    fig.colorbar(cax)\n",
    "    \n",
    "    # Set up axes\n",
    "    ax.set_xticks(np.arange(len(classes)), labels=classes, rotation=90)\n",
    "    ax.set_yticks(np.arange(len(classes)), labels=classes)\n",
    "    \n",
    "    # Force label at every tick\n",
    "    ax.xaxis.set_major_locator(ticker.MultipleLocator(1))\n",
    "    ax.yaxis.set_major_locator(ticker.MultipleLocator(1))\n",
    "    \n",
    "    plt.tight_layout()\n",
    "    plt.show()\n",
    "    plt.close(fig)\n",
    "    \n",
    "evaluate(rnn, test_set, classes=alldata.labels_uniq)"
   ],
   "id": "5a1b9d67bf49ca1a",
   "outputs": [
    {
     "data": {
      "text/plain": [
       "<Figure size 640x480 with 2 Axes>"
      ],
      "image/png": "[encoded data removed]"
     },
     "metadata": {},
     "output_type": "display_data"
    }
   ],
   "execution_count": 14
  },
  {
   "metadata": {},
   "cell_type": "code",
   "outputs": [],
   "execution_count": null,
   "source": "",
   "id": "d6a68beedb9d8dfb"
  }
 ],
 "metadata": {
  "kernelspec": {
   "display_name": "Python 3",
   "language": "python",
   "name": "python3"
  },
  "language_info": {
   "codemirror_mode": {
    "name": "ipython",
    "version": 2
   },
   "file_extension": ".py",
   "mimetype": "text/x-python",
   "name": "python",
   "nbconvert_exporter": "python",
   "pygments_lexer": "ipython2",
   "version": "2.7.6"
  }
 },
 "nbformat": 4,
 "nbformat_minor": 5
}
